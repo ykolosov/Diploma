{
  "nbformat": 4,
  "nbformat_minor": 0,
  "metadata": {
    "colab": {
      "name": "Копия блокнота \"0_diploma.ipynb\"",
      "provenance": [],
      "collapsed_sections": []
    },
    "kernelspec": {
      "name": "python3",
      "display_name": "Python 3"
    },
    "language_info": {
      "name": "python"
    }
  },
  "cells": [
    {
      "cell_type": "code",
      "metadata": {
        "id": "OL7hOglrcnTw"
      },
      "source": [
        "import os\n",
        "import math\n",
        "import random\n",
        "import numpy as np\n",
        "import pandas as pd\n",
        "from pylab import plt, mpl\n",
        "plt.style.use('seaborn')\n",
        "mpl.rcParams['savefig.dpi'] = 300\n",
        "mpl.rcParams['font.family'] = 'serif'\n",
        "np.set_printoptions(precision = 4, suppress=True)\n",
        "os.environ['PYTHONHASHSEED'] = '0'"
      ],
      "execution_count": 1,
      "outputs": []
    },
    {
      "cell_type": "code",
      "metadata": {
        "id": "hc5XfAttcwwK",
        "colab": {
          "base_uri": "https://localhost:8080/"
        },
        "outputId": "7c66f5cd-ff6a-4e66-b7a8-78721e677637"
      },
      "source": [
        "import logging\n",
        "!pip install tensorflow==2.3.0\n",
        "import tensorflow as tf\n",
        "from tensorflow import keras\n",
        "tf.get_logger().setLevel(logging.ERROR)"
      ],
      "execution_count": 2,
      "outputs": [
        {
          "output_type": "stream",
          "text": [
            "Requirement already satisfied: tensorflow==2.3.0 in /usr/local/lib/python3.7/dist-packages (2.3.0)\n",
            "Requirement already satisfied: six>=1.12.0 in /usr/local/lib/python3.7/dist-packages (from tensorflow==2.3.0) (1.15.0)\n",
            "Requirement already satisfied: google-pasta>=0.1.8 in /usr/local/lib/python3.7/dist-packages (from tensorflow==2.3.0) (0.2.0)\n",
            "Requirement already satisfied: keras-preprocessing<1.2,>=1.1.1 in /usr/local/lib/python3.7/dist-packages (from tensorflow==2.3.0) (1.1.2)\n",
            "Requirement already satisfied: scipy==1.4.1 in /usr/local/lib/python3.7/dist-packages (from tensorflow==2.3.0) (1.4.1)\n",
            "Requirement already satisfied: tensorboard<3,>=2.3.0 in /usr/local/lib/python3.7/dist-packages (from tensorflow==2.3.0) (2.5.0)\n",
            "Requirement already satisfied: wrapt>=1.11.1 in /usr/local/lib/python3.7/dist-packages (from tensorflow==2.3.0) (1.12.1)\n",
            "Requirement already satisfied: opt-einsum>=2.3.2 in /usr/local/lib/python3.7/dist-packages (from tensorflow==2.3.0) (3.3.0)\n",
            "Requirement already satisfied: tensorflow-estimator<2.4.0,>=2.3.0 in /usr/local/lib/python3.7/dist-packages (from tensorflow==2.3.0) (2.3.0)\n",
            "Requirement already satisfied: wheel>=0.26 in /usr/local/lib/python3.7/dist-packages (from tensorflow==2.3.0) (0.36.2)\n",
            "Requirement already satisfied: protobuf>=3.9.2 in /usr/local/lib/python3.7/dist-packages (from tensorflow==2.3.0) (3.12.4)\n",
            "Requirement already satisfied: absl-py>=0.7.0 in /usr/local/lib/python3.7/dist-packages (from tensorflow==2.3.0) (0.12.0)\n",
            "Requirement already satisfied: gast==0.3.3 in /usr/local/lib/python3.7/dist-packages (from tensorflow==2.3.0) (0.3.3)\n",
            "Requirement already satisfied: termcolor>=1.1.0 in /usr/local/lib/python3.7/dist-packages (from tensorflow==2.3.0) (1.1.0)\n",
            "Requirement already satisfied: h5py<2.11.0,>=2.10.0 in /usr/local/lib/python3.7/dist-packages (from tensorflow==2.3.0) (2.10.0)\n",
            "Requirement already satisfied: numpy<1.19.0,>=1.16.0 in /usr/local/lib/python3.7/dist-packages (from tensorflow==2.3.0) (1.18.5)\n",
            "Requirement already satisfied: astunparse==1.6.3 in /usr/local/lib/python3.7/dist-packages (from tensorflow==2.3.0) (1.6.3)\n",
            "Requirement already satisfied: grpcio>=1.8.6 in /usr/local/lib/python3.7/dist-packages (from tensorflow==2.3.0) (1.34.1)\n",
            "Requirement already satisfied: setuptools>=41.0.0 in /usr/local/lib/python3.7/dist-packages (from tensorboard<3,>=2.3.0->tensorflow==2.3.0) (57.0.0)\n",
            "Requirement already satisfied: google-auth-oauthlib<0.5,>=0.4.1 in /usr/local/lib/python3.7/dist-packages (from tensorboard<3,>=2.3.0->tensorflow==2.3.0) (0.4.4)\n",
            "Requirement already satisfied: tensorboard-data-server<0.7.0,>=0.6.0 in /usr/local/lib/python3.7/dist-packages (from tensorboard<3,>=2.3.0->tensorflow==2.3.0) (0.6.1)\n",
            "Requirement already satisfied: tensorboard-plugin-wit>=1.6.0 in /usr/local/lib/python3.7/dist-packages (from tensorboard<3,>=2.3.0->tensorflow==2.3.0) (1.8.0)\n",
            "Requirement already satisfied: google-auth<2,>=1.6.3 in /usr/local/lib/python3.7/dist-packages (from tensorboard<3,>=2.3.0->tensorflow==2.3.0) (1.31.0)\n",
            "Requirement already satisfied: werkzeug>=0.11.15 in /usr/local/lib/python3.7/dist-packages (from tensorboard<3,>=2.3.0->tensorflow==2.3.0) (1.0.1)\n",
            "Requirement already satisfied: requests<3,>=2.21.0 in /usr/local/lib/python3.7/dist-packages (from tensorboard<3,>=2.3.0->tensorflow==2.3.0) (2.23.0)\n",
            "Requirement already satisfied: markdown>=2.6.8 in /usr/local/lib/python3.7/dist-packages (from tensorboard<3,>=2.3.0->tensorflow==2.3.0) (3.3.4)\n",
            "Requirement already satisfied: requests-oauthlib>=0.7.0 in /usr/local/lib/python3.7/dist-packages (from google-auth-oauthlib<0.5,>=0.4.1->tensorboard<3,>=2.3.0->tensorflow==2.3.0) (1.3.0)\n",
            "Requirement already satisfied: cachetools<5.0,>=2.0.0 in /usr/local/lib/python3.7/dist-packages (from google-auth<2,>=1.6.3->tensorboard<3,>=2.3.0->tensorflow==2.3.0) (4.2.2)\n",
            "Requirement already satisfied: rsa<5,>=3.1.4; python_version >= \"3.6\" in /usr/local/lib/python3.7/dist-packages (from google-auth<2,>=1.6.3->tensorboard<3,>=2.3.0->tensorflow==2.3.0) (4.7.2)\n",
            "Requirement already satisfied: pyasn1-modules>=0.2.1 in /usr/local/lib/python3.7/dist-packages (from google-auth<2,>=1.6.3->tensorboard<3,>=2.3.0->tensorflow==2.3.0) (0.2.8)\n",
            "Requirement already satisfied: idna<3,>=2.5 in /usr/local/lib/python3.7/dist-packages (from requests<3,>=2.21.0->tensorboard<3,>=2.3.0->tensorflow==2.3.0) (2.10)\n",
            "Requirement already satisfied: urllib3!=1.25.0,!=1.25.1,<1.26,>=1.21.1 in /usr/local/lib/python3.7/dist-packages (from requests<3,>=2.21.0->tensorboard<3,>=2.3.0->tensorflow==2.3.0) (1.24.3)\n",
            "Requirement already satisfied: certifi>=2017.4.17 in /usr/local/lib/python3.7/dist-packages (from requests<3,>=2.21.0->tensorboard<3,>=2.3.0->tensorflow==2.3.0) (2021.5.30)\n",
            "Requirement already satisfied: chardet<4,>=3.0.2 in /usr/local/lib/python3.7/dist-packages (from requests<3,>=2.21.0->tensorboard<3,>=2.3.0->tensorflow==2.3.0) (3.0.4)\n",
            "Requirement already satisfied: importlib-metadata; python_version < \"3.8\" in /usr/local/lib/python3.7/dist-packages (from markdown>=2.6.8->tensorboard<3,>=2.3.0->tensorflow==2.3.0) (4.5.0)\n",
            "Requirement already satisfied: oauthlib>=3.0.0 in /usr/local/lib/python3.7/dist-packages (from requests-oauthlib>=0.7.0->google-auth-oauthlib<0.5,>=0.4.1->tensorboard<3,>=2.3.0->tensorflow==2.3.0) (3.1.1)\n",
            "Requirement already satisfied: pyasn1>=0.1.3 in /usr/local/lib/python3.7/dist-packages (from rsa<5,>=3.1.4; python_version >= \"3.6\"->google-auth<2,>=1.6.3->tensorboard<3,>=2.3.0->tensorflow==2.3.0) (0.4.8)\n",
            "Requirement already satisfied: zipp>=0.5 in /usr/local/lib/python3.7/dist-packages (from importlib-metadata; python_version < \"3.8\"->markdown>=2.6.8->tensorboard<3,>=2.3.0->tensorflow==2.3.0) (3.4.1)\n",
            "Requirement already satisfied: typing-extensions>=3.6.4; python_version < \"3.8\" in /usr/local/lib/python3.7/dist-packages (from importlib-metadata; python_version < \"3.8\"->markdown>=2.6.8->tensorboard<3,>=2.3.0->tensorflow==2.3.0) (3.7.4.3)\n"
          ],
          "name": "stdout"
        }
      ]
    },
    {
      "cell_type": "code",
      "metadata": {
        "colab": {
          "base_uri": "https://localhost:8080/"
        },
        "id": "C_mPmGakEtk6",
        "outputId": "173085c2-9fde-4585-d48d-7c0276d2003c"
      },
      "source": [
        "print(tf.__version__)"
      ],
      "execution_count": 3,
      "outputs": [
        {
          "output_type": "stream",
          "text": [
            "2.3.0\n"
          ],
          "name": "stdout"
        }
      ]
    },
    {
      "cell_type": "code",
      "metadata": {
        "id": "XbN71ecjcxH4"
      },
      "source": [
        "from tensorflow.python.framework.ops import disable_eager_execution\n",
        "disable_eager_execution()"
      ],
      "execution_count": 4,
      "outputs": []
    },
    {
      "cell_type": "code",
      "metadata": {
        "id": "m4MGx6HScxOy"
      },
      "source": [
        "from tensorflow.python.keras.layers import Dense, Dropout\n",
        "from tensorflow.python.keras.models import Sequential\n",
        "from tensorflow.keras.optimizers import Adam, RMSprop\n",
        "from sklearn.metrics import accuracy_score"
      ],
      "execution_count": 5,
      "outputs": []
    },
    {
      "cell_type": "code",
      "metadata": {
        "id": "e4Yp5H-ucxRY"
      },
      "source": [
        "def set_seeds(seed=100):\n",
        "    random.seed(seed)\n",
        "    np.random.seed(seed)\n",
        "    tf.random.set_seed(seed)\n",
        "    env.seed(seed)\n",
        "    env.action_space.seed(100)"
      ],
      "execution_count": 6,
      "outputs": []
    },
    {
      "cell_type": "code",
      "metadata": {
        "id": "7VwETzAicxTU"
      },
      "source": [
        "class observation_space:\n",
        "    def __init__(self, n):\n",
        "        self.shape = (n,)"
      ],
      "execution_count": 7,
      "outputs": []
    },
    {
      "cell_type": "code",
      "metadata": {
        "id": "JVv-1DzUcxVm"
      },
      "source": [
        "class action_space:\n",
        "  def __init__(self, n):\n",
        "    s = np.linspace(0, 1, num = 5)\n",
        "    self.array = s\n",
        "    \n",
        "  def seed(self, seed):\n",
        "    pass\n",
        "\n",
        "  def sample(self):\n",
        "    return np.random.choice(self.array)"
      ],
      "execution_count": 8,
      "outputs": []
    },
    {
      "cell_type": "code",
      "metadata": {
        "id": "jl3YFjIvcxYH"
      },
      "source": [
        "class Finance:\n",
        "    url = 'http://hilpisch.com/aiif_eikon_eod_data.csv'\n",
        "\n",
        "    def __init__(self, symbol0, symbol1, features, window, lags, leverage = 1, min_performance = 0.85, start = 0, end = None, action_space_N = 5):\n",
        "        self.symbol0 = symbol0\n",
        "        self.symbol1 = symbol1\n",
        "        self.features = features\n",
        "        self.n_features = len(features)\n",
        "        self.window = window\n",
        "        self.lags = lags\n",
        "        self.leverage = leverage\n",
        "        self.min_performance = min_performance\n",
        "        self.start = start\n",
        "        self.end = end\n",
        "        self.observation_space = observation_space(self.lags)\n",
        "        self.action_space = action_space(action_space_N)\n",
        "        self._get_data()\n",
        "        self._prepare_data()\n",
        "\n",
        "    def _get_data(self):\n",
        "        self.raw = pd.read_csv(self.url, index_col = False, parse_dates = False).dropna()\n",
        "\n",
        "    def _prepare_data(self):\n",
        "        self.data0 = pd.DataFrame(self.raw[self.symbol0])\n",
        "        self.data0 = self.data0.iloc[self.start:]\n",
        "        self.data0 = self.data0.shift(1) / self.data0\n",
        "        self.data0.dropna(inplace = True)\n",
        "        if self.end is not None:\n",
        "            self.data0 = self.data0.iloc[:self.end - self.start]\n",
        "\n",
        "        self.data1 = pd.DataFrame(self.raw[self.symbol1])\n",
        "        self.data1 = self.data1.iloc[self.start:]\n",
        "        self.data1 = self.data1.shift(1) / self.data1\n",
        "        self.data1.dropna(inplace = True)\n",
        "        if self.end is not None:\n",
        "            self.data1 = self.data1.iloc[:self.end - self.start]\n",
        "        \n",
        "        self.data = self.data0.join(self.data1)\n",
        "\n",
        "    def _get_state(self):\n",
        "        return self.data[self.features].iloc[self.bar - self.lags:self.bar]\n",
        "\n",
        "    def seed(self, seed):\n",
        "        random.seed(seed)\n",
        "        np.random.seed(seed)\n",
        "\n",
        "    def reset(self):\n",
        "        self.performance = 1\n",
        "        self.bar = self.lags\n",
        "        state = self.data[self.features].iloc[self.bar - self.lags:self.bar]\n",
        "        return state.values\n",
        "\n",
        "    def step(self, action):\n",
        "        ret0 = self.data[symbol0].iloc[self.bar]\n",
        "        ret1 = self.data[symbol1].iloc[self.bar]\n",
        "        reward = np.log(ret0 * action + ret1 * (1 - action))\n",
        "        self.bar += 1\n",
        "        self.performance *= math.exp(reward)\n",
        "        if self.bar >= len(self.data):\n",
        "            done = True\n",
        "        else:\n",
        "            done = False\n",
        "        state = self._get_state()\n",
        "        info = {}\n",
        "        return state.values, reward, done, info"
      ],
      "execution_count": 9,
      "outputs": []
    },
    {
      "cell_type": "code",
      "metadata": {
        "id": "EXUl-uBDcxaX"
      },
      "source": [
        "symbol0 = 'EUR='\n",
        "symbol1 = 'GLD'\n",
        "env = Finance(symbol0, symbol1, [symbol0, symbol1], 10, 5)"
      ],
      "execution_count": 10,
      "outputs": []
    },
    {
      "cell_type": "code",
      "metadata": {
        "id": "9pOWbeASc8Yb"
      },
      "source": [
        "from collections import deque"
      ],
      "execution_count": 11,
      "outputs": []
    },
    {
      "cell_type": "code",
      "metadata": {
        "id": "O7HUhtpNc8ae"
      },
      "source": [
        "class FQLAgent:\n",
        "    def __init__(self, hidden_units, lr, learn_env, valid_env, action_space_N = 5):\n",
        "        self.learn_env = learn_env\n",
        "        self.valid_env = valid_env\n",
        "        self.epsilon = 1.0\n",
        "        self.epsilon_min = 0.01\n",
        "        self.epsilon_decay = 0.98\n",
        "        self.gamma = 0.99\n",
        "        self.batch_size = 128\n",
        "        self.max_treward = 0\n",
        "        self.trewards = list()\n",
        "        self.averages = list()\n",
        "        self.performances = list()\n",
        "        self.aperformances = list()\n",
        "        self.vperformances = list()\n",
        "        self.memory = deque(maxlen = 2000)\n",
        "        self.model = self._build_model(hidden_units, lr)\n",
        "        \n",
        "    def _build_model(self, hu, lr, action_space_N = 5):\n",
        "        model = Sequential()\n",
        "        model.add(Dense(hu, input_shape = (self.learn_env.lags, self.learn_env.n_features), activation = 'relu'))\n",
        "        model.add(Dense(hu, activation = 'relu'))\n",
        "        model.add(Dense(action_space_N, activation = 'linear'))\n",
        "        model.compile(loss = 'mse', optimizer = Adam(learning_rate = lr))\n",
        "        return model\n",
        "        \n",
        "    def act(self, state):\n",
        "        if random.random() <= self.epsilon:\n",
        "            return self.learn_env.action_space.sample()\n",
        "        action = self.learn_env.action_space.array[np.argmax(self.model.predict(state)[0, 0])]\n",
        "        return action\n",
        "    \n",
        "    def replay(self):\n",
        "        batch = random.sample(self.memory, self.batch_size)\n",
        "        for state, action, reward, next_state, done in batch:\n",
        "            if not done:\n",
        "                Q = reward + self.gamma * np.amax(self.model.predict(next_state)[0, 0])\n",
        "            target = self.model.predict(state)\n",
        "            target[0, 0, np.where(np.isclose(self.learn_env.action_space.array, action))] = Q \n",
        "            self.model.fit(state, target, epochs = 1, verbose = False)\n",
        "        if self.epsilon > self.epsilon_min:\n",
        "            self.epsilon *= self.epsilon_decay\n",
        "    \n",
        "    def learn(self, episodes):\n",
        "        for e in range(1, episodes + 1):\n",
        "            state = self.learn_env.reset()\n",
        "            state = np.reshape(state, [1, self.learn_env.lags, self.learn_env.n_features])\n",
        "            treward = 0\n",
        "            for _ in range(10000):\n",
        "                action = self.act(state)\n",
        "                next_state, reward, done, info = self.learn_env.step(action)\n",
        "                next_state = np.reshape(next_state, [1, self.learn_env.lags, self.learn_env.n_features])\n",
        "                self.memory.append([state, action, reward, next_state, done])\n",
        "                state = next_state\n",
        "                treward += reward\n",
        "                if done:\n",
        "                    self.trewards.append(treward)\n",
        "                    av = sum(self.trewards[-25:]) / 25\n",
        "                    perf = self.learn_env.performance\n",
        "                    self.averages.append(av)\n",
        "                    self.performances.append(perf)\n",
        "                    self.aperformances.append(sum(self.performances[-25:]) / 25)\n",
        "                    self.max_treward = max(self.max_treward, treward)\n",
        "                    break\n",
        "            if len(self.memory) > self.batch_size:\n",
        "                self.replay()\n",
        "            self.validate(e, episodes)\n",
        "\n",
        "    def validate(self, e, episodes):\n",
        "        state = self.valid_env.reset()\n",
        "        state = np.reshape(state, [1, self.valid_env.lags, self.valid_env.n_features])\n",
        "        treward = 0\n",
        "        for _ in range(10000):\n",
        "            action = self.valid_env.action_space.array[np.argmax(self.model.predict(state)[0, 0])]\n",
        "            next_state, reward, done, info = self.valid_env.step(action)\n",
        "            state = np.reshape(next_state, [1, self.valid_env.lags, self.valid_env.n_features])\n",
        "            treward += reward\n",
        "            if done:\n",
        "                perf = self.valid_env.performance\n",
        "                self.vperformances.append(perf)\n",
        "                if e % 20 == 0:\n",
        "                    templ = 71 * '='\n",
        "                    templ += '\\nepisode: {:2d}/{} | VALIDATION | '\n",
        "                    templ += 'treward: {:4f} | perf: {:5.3f} | '\n",
        "                    templ += 'eps: {:.2f}\\n'\n",
        "                    templ += 71 * '='\n",
        "                    print(templ.format(e, episodes, np.exp(treward), perf, self.epsilon))\n",
        "                break"
      ],
      "execution_count": 12,
      "outputs": []
    },
    {
      "cell_type": "code",
      "metadata": {
        "id": "yqtSQBVzc8cu"
      },
      "source": [
        "features = [symbol0, symbol1]"
      ],
      "execution_count": 13,
      "outputs": []
    },
    {
      "cell_type": "code",
      "metadata": {
        "id": "IyvRs1dEdB9C"
      },
      "source": [
        "a = 0\n",
        "b = 2000\n",
        "c = 500"
      ],
      "execution_count": 14,
      "outputs": []
    },
    {
      "cell_type": "code",
      "metadata": {
        "id": "4evbYvYhdB_B"
      },
      "source": [
        "learn_env = Finance(symbol0, symbol1, features, window=10, lags=6, leverage=1, min_performance=0.85, start=a, end=a + b)"
      ],
      "execution_count": 15,
      "outputs": []
    },
    {
      "cell_type": "code",
      "metadata": {
        "id": "ZyZEIWaKdCBR"
      },
      "source": [
        "valid_env = Finance(symbol0, symbol1, features, window=learn_env.window, lags=learn_env.lags, leverage=learn_env.leverage, min_performance=learn_env.min_performance, start=a + b, end=a + b + c)"
      ],
      "execution_count": 16,
      "outputs": []
    },
    {
      "cell_type": "code",
      "metadata": {
        "id": "hCXz2zvvdHB2"
      },
      "source": [
        "set_seeds(100)\n",
        "agent = FQLAgent(25, 0.005, learn_env, valid_env)"
      ],
      "execution_count": 17,
      "outputs": []
    },
    {
      "cell_type": "code",
      "metadata": {
        "id": "q8vQ8901dHEC",
        "colab": {
          "base_uri": "https://localhost:8080/"
        },
        "outputId": "2f650a8b-d836-4891-ea4b-9ef5a2810fc7"
      },
      "source": [
        "episodes = 60\n",
        "print(agent.learn_env.reset())"
      ],
      "execution_count": 18,
      "outputs": [
        {
          "output_type": "stream",
          "text": [
            "[[1.003  1.0009]\n",
            " [0.9969 0.9838]\n",
            " [1.0066 1.0062]\n",
            " [0.9935 0.9951]\n",
            " [0.993  0.9869]\n",
            " [1.0013 1.0214]]\n"
          ],
          "name": "stdout"
        }
      ]
    },
    {
      "cell_type": "code",
      "metadata": {
        "colab": {
          "base_uri": "https://localhost:8080/"
        },
        "id": "Xm2XP5eudHGN",
        "outputId": "a66a8fe8-f040-42b5-e36c-c84b252cf56a"
      },
      "source": [
        "%time agent.learn(episodes)"
      ],
      "execution_count": 19,
      "outputs": [
        {
          "output_type": "stream",
          "text": [
            "=======================================================================\n",
            "episode: 20/60 | VALIDATION | treward: 0.920894 | perf: 0.921 | eps: 0.67\n",
            "=======================================================================\n",
            "=======================================================================\n",
            "episode: 40/60 | VALIDATION | treward: 0.920894 | perf: 0.921 | eps: 0.45\n",
            "=======================================================================\n",
            "=======================================================================\n",
            "episode: 60/60 | VALIDATION | treward: 0.970085 | perf: 0.970 | eps: 0.30\n",
            "=======================================================================\n",
            "CPU times: user 3min 56s, sys: 5.88 s, total: 4min 2s\n",
            "Wall time: 3min 50s\n"
          ],
          "name": "stdout"
        }
      ]
    },
    {
      "cell_type": "code",
      "metadata": {
        "id": "PAWOaD7XdHIW",
        "colab": {
          "base_uri": "https://localhost:8080/"
        },
        "outputId": "a99c08db-63e7-4233-a832-391b3bdfd3ee"
      },
      "source": [
        "agent.epsilon"
      ],
      "execution_count": 20,
      "outputs": [
        {
          "output_type": "execute_result",
          "data": {
            "text/plain": [
              "0.2975531426921204"
            ]
          },
          "metadata": {
            "tags": []
          },
          "execution_count": 20
        }
      ]
    },
    {
      "cell_type": "code",
      "metadata": {
        "id": "TpvmlKshdHKd",
        "colab": {
          "base_uri": "https://localhost:8080/",
          "height": 404
        },
        "outputId": "ee191ec2-fbde-46b6-e3b6-83bd278704c3"
      },
      "source": [
        "plt.figure(figsize=(10, 6))\n",
        "x = range(1, len(agent.averages) + 1)\n",
        "y = plt.plot(x, np.exp(agent.averages))\n",
        "plt.xlabel('episodes')\n",
        "plt.ylabel('total reward')\n",
        "plt.legend();"
      ],
      "execution_count": 21,
      "outputs": [
        {
          "output_type": "stream",
          "text": [
            "No handles with labels found to put in legend.\n"
          ],
          "name": "stderr"
        },
        {
          "output_type": "display_data",
          "data": {
            "image/png": "[encoded data removed]",
            "text/plain": [
              "<Figure size 720x432 with 1 Axes>"
            ]
          },
          "metadata": {
            "tags": [],
            "needs_background": "light"
          }
        }
      ]
    },
    {
      "cell_type": "code",
      "metadata": {
        "id": "rRvYPmbQdHMx",
        "colab": {
          "base_uri": "https://localhost:8080/",
          "height": 387
        },
        "outputId": "20ed1562-6647-406f-8703-075d57713426"
      },
      "source": [
        "plt.figure(figsize=(10, 6))\n",
        "plt.plot(agent.performances[:], label='training')\n",
        "plt.plot(agent.vperformances[:], label='validation')\n",
        "plt.xlabel('episodes')\n",
        "plt.ylabel('gross performance')\n",
        "plt.legend();"
      ],
      "execution_count": 22,
      "outputs": [
        {
          "output_type": "display_data",
          "data": {
            "image/png": "[encoded data removed]",
            "text/plain": [
              "<Figure size 720x432 with 1 Axes>"
            ]
          },
          "metadata": {
            "tags": [],
            "needs_background": "light"
          }
        }
      ]
    },
    {
      "cell_type": "code",
      "metadata": {
        "id": "wbVyEqmQVSHU",
        "colab": {
          "base_uri": "https://localhost:8080/"
        },
        "outputId": "1cf4767a-ffee-4b3e-827a-5f62d274b247"
      },
      "source": [
        "ret0 = valid_env.data[symbol0].to_numpy()\n",
        "ret1 = valid_env.data[symbol1].to_numpy()\n",
        "\n",
        "s = np.linspace(0, 1, num = 5)\n",
        "\n",
        "for d in s:\n",
        "  V = 1\n",
        "  for i in range(0, 499):\n",
        "    V *= ret0[i] * d + ret1[i] * (1 - d)\n",
        "  temp = 'При фиксированной доле d = {:4f} капитал V = {:5.3f}'\n",
        "  print(temp.format(d, V))\n",
        "  print()\n",
        "\n",
        "print()\n",
        "print('В результате применения нейросети (средний за последние 10 итераций) капитал V = ', sum(agent.vperformances[-10:]) / 10)"
      ],
      "execution_count": 23,
      "outputs": [
        {
          "output_type": "stream",
          "text": [
            "При фиксированной доле d = 0.000000 капитал V = 0.859\n",
            "\n",
            "При фиксированной доле d = 0.250000 капитал V = 0.907\n",
            "\n",
            "При фиксированной доле d = 0.500000 капитал V = 0.957\n",
            "\n",
            "При фиксированной доле d = 0.750000 капитал V = 1.009\n",
            "\n",
            "При фиксированной доле d = 1.000000 капитал V = 1.062\n",
            "\n",
            "\n",
            "В результате применения нейросети (средний за последние 10 итераций) капитал V =  1.0213456310949667\n"
          ],
          "name": "stdout"
        }
      ]
    },
    {
      "cell_type": "code",
      "metadata": {
        "id": "EHAB6fr_wXdt"
      },
      "source": [
        "state = agent.learn_env.reset()\n",
        "state = np.reshape(state, [1, agent.learn_env.lags, agent.learn_env.n_features])\n",
        "treward = 0\n",
        "for _ in range(500):\n",
        "  action = agent.learn_env.action_space.array[np.argmax(agent.model.predict(state)[0, 0])]\n",
        "  next_state, reward, done, info = agent.learn_env.step(action)\n",
        "  state = np.reshape(next_state, [1, agent.learn_env.lags, agent.learn_env.n_features])\n",
        "  treward += reward"
      ],
      "execution_count": 31,
      "outputs": []
    }
  ]
}